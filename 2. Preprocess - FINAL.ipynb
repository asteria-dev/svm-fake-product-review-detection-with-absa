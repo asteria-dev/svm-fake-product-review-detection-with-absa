{
 "cells": [
  {
   "cell_type": "code",
   "execution_count": null,
   "id": "5670b1ff-5c8f-4778-901f-eaf8040d4633",
   "metadata": {},
   "outputs": [],
   "source": [
    "import pandas as pd\n",
    "import nltk\n",
    "from nltk.corpus import stopwords\n",
    "from nltk.stem import  PorterStemmer\n",
    "import string\n",
    "import re\n",
    "import warnings\n",
    "warnings.simplefilter(\"ignore\")\n",
    "nltk.download('all')"
   ]
  },
  {
   "cell_type": "code",
   "execution_count": null,
   "id": "3a31ddf0-58c9-433e-8618-9fa86f4c67b1",
   "metadata": {},
   "outputs": [],
   "source": [
    "#load dataset\n",
    "df = pd.read_json('data/absa_processed.json')\n",
    "#remove max\n",
    "pd.set_option('display.max_columns', None)\n",
    "pd.set_option('display.max_rows', 10)"
   ]
  },
  {
   "cell_type": "code",
   "execution_count": null,
   "id": "be298246-0590-415a-a2bf-31b7cdd67d5c",
   "metadata": {},
   "outputs": [],
   "source": [
    "df.query(\"verified == True\").shape[0]"
   ]
  },
  {
   "cell_type": "code",
   "execution_count": null,
   "id": "9ac1fb5c-f8b2-4e45-878b-9116295fb264",
   "metadata": {},
   "outputs": [],
   "source": [
    "print(df.head())"
   ]
  },
  {
   "cell_type": "code",
   "execution_count": null,
   "id": "c13f32a4-25a2-4bd0-97aa-1252de686b94",
   "metadata": {},
   "outputs": [],
   "source": [
    "print(df.info())"
   ]
  },
  {
   "cell_type": "code",
   "execution_count": null,
   "id": "37e321c2-9487-40d0-b9ca-caa71879b207",
   "metadata": {},
   "outputs": [],
   "source": [
    "df['reviewText'] = df['reviewText'].astype(str)\n",
    "print(df.info())"
   ]
  },
  {
   "cell_type": "code",
   "execution_count": null,
   "id": "ea6af870-8d7b-45b1-ad38-322afbd149fc",
   "metadata": {},
   "outputs": [],
   "source": [
    "sw = set(stopwords.words('english'))"
   ]
  },
  {
   "cell_type": "code",
   "execution_count": null,
   "id": "3419f6a0-ddb6-47ca-9682-986894073a7f",
   "metadata": {},
   "outputs": [],
   "source": [
    "def text_preprocessing(text):\n",
    "    removed_special_characters = re.sub(\"[^a-zA-Z]\", \" \", str(text))\n",
    "    tokens = removed_special_characters.lower().split()\n",
    "\n",
    "    stemmer = PorterStemmer()\n",
    "    cleaned = []\n",
    "    stemmed = []\n",
    "\n",
    "    for token in tokens:\n",
    "        if token not in sw:\n",
    "            cleaned.append(token)\n",
    "\n",
    "    for token in cleaned:\n",
    "        token = stemmer.stem(token)\n",
    "        stemmed.append(token)\n",
    "\n",
    "    return \" \".join(stemmed)"
   ]
  },
  {
   "cell_type": "code",
   "execution_count": null,
   "id": "575b5db6-0db8-4d5f-8c80-b6cb8669427d",
   "metadata": {},
   "outputs": [],
   "source": [
    "df['reviewText'].head()"
   ]
  },
  {
   "cell_type": "code",
   "execution_count": null,
   "id": "2971eb14-d3bd-4db7-902e-953beef21b5c",
   "metadata": {},
   "outputs": [],
   "source": [
    "df['reviewText'] = df['reviewText'].apply(text_preprocessing)"
   ]
  },
  {
   "cell_type": "code",
   "execution_count": null,
   "id": "31a2277e-a79e-4a3a-91a4-d401b815df8d",
   "metadata": {},
   "outputs": [],
   "source": [
    "df['reviewText'].head()"
   ]
  },
  {
   "cell_type": "code",
   "execution_count": null,
   "id": "84d94d41-1129-494b-9d08-eb87363c2eb4",
   "metadata": {},
   "outputs": [],
   "source": [
    "df.info()"
   ]
  },
  {
   "cell_type": "code",
   "execution_count": null,
   "id": "82763fc6-0d68-46e1-b3bc-2c7a98f41349",
   "metadata": {},
   "outputs": [],
   "source": [
    "dup = df.duplicated().sum()\n",
    "print(\"Number of duplicates in dataset: \", dup)"
   ]
  },
  {
   "cell_type": "code",
   "execution_count": null,
   "id": "5f95287c-53b0-43e0-9f39-fa508897e040",
   "metadata": {},
   "outputs": [],
   "source": [
    "df = df.drop_duplicates().reset_index(drop=True)"
   ]
  },
  {
   "cell_type": "code",
   "execution_count": null,
   "id": "2d781553-6c07-4175-8887-d4de7efb9376",
   "metadata": {},
   "outputs": [],
   "source": [
    "df.isnull().sum()"
   ]
  },
  {
   "cell_type": "code",
   "execution_count": null,
   "id": "20f38825-2439-49f2-b533-7ff086032b87",
   "metadata": {},
   "outputs": [],
   "source": [
    "df.to_json('data/final_pre_process.json')"
   ]
  }
 ],
 "metadata": {
  "kernelspec": {
   "display_name": "Python 3 (ipykernel)",
   "language": "python",
   "name": "python3"
  },
  "language_info": {
   "codemirror_mode": {
    "name": "ipython",
    "version": 3
   },
   "file_extension": ".py",
   "mimetype": "text/x-python",
   "name": "python",
   "nbconvert_exporter": "python",
   "pygments_lexer": "ipython3",
   "version": "3.11.3"
  }
 },
 "nbformat": 4,
 "nbformat_minor": 5
}
